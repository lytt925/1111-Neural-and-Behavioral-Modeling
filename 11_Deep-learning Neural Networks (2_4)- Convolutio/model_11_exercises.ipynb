{
  "cells": [
    {
      "cell_type": "markdown",
      "metadata": {
        "id": "jv3vquAXmtEq"
      },
      "source": [
        "# Neural & Behavioral Modeling - Week 11 (Exercises)\n",
        "by 李彥廷 (b08207008@ntu.edu.tw)"
      ]
    },
    {
      "cell_type": "code",
      "execution_count": 50,
      "metadata": {
        "id": "OedJrkpOmtEr"
      },
      "outputs": [],
      "source": [
        "%config IPCompleter.greedy=True \n",
        "%matplotlib inline\n",
        "from matplotlib.pyplot import *\n",
        "from IPython.display import *\n",
        "import numpy as np\n",
        "import pandas as pd\n",
        "from tabulate import tabulate"
      ]
    },
    {
      "cell_type": "code",
      "execution_count": 2,
      "metadata": {
        "colab": {
          "base_uri": "https://localhost:8080/",
          "height": 0
        },
        "id": "zfi8X_2CmtEr",
        "outputId": "63935554-51ce-412a-ded5-8993588812ed"
      },
      "outputs": [
        {
          "output_type": "stream",
          "name": "stdout",
          "text": [
            "PyTorch version: 1.12.1+cu113\n",
            "Device  0 : Tesla T4\n",
            "Current: Device  0\n"
          ]
        }
      ],
      "source": [
        "# Check GPU status:\n",
        "import torch as t\n",
        "print('PyTorch version:',t.__version__)\n",
        "use_cuda=t.cuda.is_available()\n",
        "if(use_cuda):\n",
        "    for i in range(t.cuda.device_count()):\n",
        "        print('Device ',i,':',t.cuda.get_device_name(i))\n",
        "    print('Current: Device ',t.cuda.current_device())\n",
        "    t.backends.cudnn.benchmark = True \n",
        "    device = t.device(\"cuda\")\n",
        "else:\n",
        "    device = t.device(\"cpu\")\n",
        "    print('No GPU')"
      ]
    },
    {
      "cell_type": "markdown",
      "metadata": {
        "id": "3jSSWW4DmtEs"
      },
      "source": [
        "## 1 Fair Performance Evaluation (2 points)\n",
        "We often compare and assess performances of different model architectures/parameters/hyperparameters. Note that the results are differnt even if you re-run exactly the same code block. This is primarily due to a non-fixed random number seed. Please:\n",
        "\n",
        "(1) run the section 1.2 TEN times and report (a) min, (b) max, (c) mean, & (d) standard deviation of the TESTING accuracies. (2 points)\n",
        "\n",
        "(2) try to fix the random number seeds in numpy & pytorch to see if you can obtain the same results every time in the section 1.2. (2 points)"
      ]
    },
    {
      "cell_type": "markdown",
      "metadata": {
        "id": "G6ecGSPAmtEs"
      },
      "source": [
        "### 1.0 CIFAR-10 dataset"
      ]
    },
    {
      "cell_type": "code",
      "execution_count": 3,
      "metadata": {
        "colab": {
          "base_uri": "https://localhost:8080/",
          "height": 0
        },
        "id": "aItLBJVAmtEs",
        "outputId": "f94dcdeb-94ae-4772-f68e-d44a54f6fbce"
      },
      "outputs": [
        {
          "output_type": "stream",
          "name": "stdout",
          "text": [
            "Files already downloaded and verified\n"
          ]
        }
      ],
      "source": [
        "# Load the dataset:\n",
        "import torchvision.transforms as transforms\n",
        "from torchvision.datasets import CIFAR10\n",
        "train_set = CIFAR10(root='.', train=True, transform=transforms.ToTensor(),download=True)\n",
        "train_data = t.utils.data.DataLoader(train_set, batch_size=32, shuffle=True)\n",
        "test_set = CIFAR10(root='.', train=False, transform=transforms.ToTensor())\n",
        "test_data = t.utils.data.DataLoader(train_set, batch_size=1000, shuffle=True)\n",
        "classes = ('plane', 'car', 'bird', 'cat', 'deer', 'dog', 'frog', 'horse', 'ship', 'truck')"
      ]
    },
    {
      "cell_type": "markdown",
      "metadata": {
        "id": "1XBcpERbmtEs"
      },
      "source": [
        "### 1.1 The model"
      ]
    },
    {
      "cell_type": "code",
      "execution_count": 4,
      "metadata": {
        "id": "xD-1nLP6mtEs"
      },
      "outputs": [],
      "source": [
        "# Make the model:\n",
        "import torch.nn as nn\n",
        "import torch.nn.functional as F\n",
        "class Net(nn.Module):\n",
        "    def __init__(self):\n",
        "        super(Net, self).__init__() # = nn.Module.__init__(self)\n",
        "        self.conv1 = nn.Conv2d(3, 6, 5) # in (depth: rgb), out(6 feature map), kernel(5x5)\n",
        "        self.conv2 = nn.Conv2d(6, 16, 5) \n",
        "        self.fc1   = nn.Linear(16*5*5, 120) \n",
        "        self.fc2   = nn.Linear(120, 84)\n",
        "        self.fc3   = nn.Linear(84, 10)\n",
        "    def forward(self, x): # functional expressions\n",
        "        x = F.max_pool2d(F.relu(self.conv1(x)), (2, 2))\n",
        "        x = F.max_pool2d(F.relu(self.conv2(x)), 2) \n",
        "        x = x.view(x.size()[0], -1) \n",
        "        x = F.relu(self.fc1(x))\n",
        "        x = F.relu(self.fc2(x))\n",
        "        x = self.fc3(x)        \n",
        "        return x\n",
        "lenet = Net()\n",
        "lenet = lenet.to(device)\n",
        "loss_fn = t.nn.CrossEntropyLoss()\n",
        "optimizer = t.optim.Adam(lenet.parameters())"
      ]
    },
    {
      "cell_type": "markdown",
      "metadata": {
        "id": "9CD69LqZmtEs"
      },
      "source": [
        "### 1.2 Training & Testing"
      ]
    },
    {
      "cell_type": "code",
      "execution_count": 5,
      "metadata": {
        "colab": {
          "base_uri": "https://localhost:8080/",
          "height": 0
        },
        "id": "UB7AgMMlmtEs",
        "outputId": "1fea00ea-f76c-48f0-b84a-d6e14991bcac"
      },
      "outputs": [
        {
          "output_type": "stream",
          "name": "stdout",
          "text": [
            "epoch  0 : 0.6875\n",
            "epoch  1 : 0.5\n",
            "test : 0.527\n",
            "test : 0.537\n",
            "test : 0.487\n",
            "test : 0.5\n",
            "test : 0.528\n",
            "test : 0.514\n",
            "test : 0.529\n",
            "test : 0.521\n",
            "test : 0.525\n",
            "test : 0.487\n"
          ]
        }
      ],
      "source": [
        "# Training:\n",
        "for e in range(2):\n",
        "    for i, (X_train, Y_train) in enumerate(train_data, 0):\n",
        "        X_train,Y_train=X_train.to(device),Y_train.to(device)\n",
        "        Y_pred = lenet(X_train)\n",
        "        loss = loss_fn(Y_pred, Y_train)\n",
        "        lenet.zero_grad()\n",
        "        loss.backward()\n",
        "        optimizer.step()   \n",
        "        Y_pred = lenet(X_train)\n",
        "        Y_pred = t.max(Y_pred,1)[1]\n",
        "    print('epoch ',e,':',(Y_pred==Y_train).sum().item()/Y_train.shape[0])\n",
        "    \n",
        "# Testing on a batch:\n",
        "testAccList = []\n",
        "for i in range(10):\n",
        "    dataiter = iter(test_data)\n",
        "    X_test, Y_test = dataiter.next() # returning a batch\n",
        "    X_test,Y_test=X_test.to(device),Y_test.to(device)\n",
        "    with t.no_grad():\n",
        "        Y_pred = lenet(X_test)\n",
        "        Y_pred = t.max(Y_pred,1)[1] # axis=1, 1 is index\n",
        "        Acc = (Y_pred==Y_test).sum().item()/Y_test.shape[0]\n",
        "        print('test :',Acc)\n",
        "        testAccList.append(Acc)"
      ]
    },
    {
      "cell_type": "markdown",
      "metadata": {
        "id": "NToIHlDRmtEt"
      },
      "source": [
        "### 1.3 Your answers"
      ]
    },
    {
      "cell_type": "markdown",
      "metadata": {
        "id": "W-QhIJi5mtEt"
      },
      "source": [
        "Please respond to the questions here."
      ]
    },
    {
      "cell_type": "code",
      "source": [
        "print('min : ', min(testAccList))\n",
        "print('max : ', max(testAccList))\n",
        "print('mean: ', round(np.mean(testAccList),3))\n",
        "print('std : ', np.std(testAccList))"
      ],
      "metadata": {
        "colab": {
          "base_uri": "https://localhost:8080/",
          "height": 0
        },
        "id": "B1EJuXtoDMFV",
        "outputId": "355c602b-401d-4f6c-b8b2-0a869d43b9b7"
      },
      "execution_count": 6,
      "outputs": [
        {
          "output_type": "stream",
          "name": "stdout",
          "text": [
            "min :  0.487\n",
            "max :  0.537\n",
            "mean:  0.516\n",
            "std :  0.017089470442351352\n"
          ]
        }
      ]
    },
    {
      "cell_type": "code",
      "source": [
        "# fix random seed\n",
        "testAccList = []\n",
        "for i in range(10):\n",
        "    np.random.seed(0)\n",
        "    t.manual_seed(0)\n",
        "    dataiter = iter(test_data)\n",
        "    X_test, Y_test = dataiter.next() # returning a batch\n",
        "    X_test,Y_test=X_test.to(device),Y_test.to(device)\n",
        "    with t.no_grad():\n",
        "        Y_pred = lenet(X_test)\n",
        "        Y_pred = t.max(Y_pred,1)[1] # axis=1, 1 is index\n",
        "        Acc = (Y_pred==Y_test).sum().item()/Y_test.shape[0]\n",
        "        print('test :',Acc)\n",
        "        testAccList.append(Acc)\n",
        "print('----------------------')\n",
        "print('min : ', min(testAccList))\n",
        "print('max : ', max(testAccList))\n",
        "print('mean: ', round(np.mean(testAccList),3))\n",
        "print('std : ', round(np.std(testAccList),3))"
      ],
      "metadata": {
        "colab": {
          "base_uri": "https://localhost:8080/",
          "height": 0
        },
        "id": "Rtjas6eyEDkK",
        "outputId": "bed98e60-31e9-4d4d-a2d5-0cc9ca41a385"
      },
      "execution_count": 7,
      "outputs": [
        {
          "output_type": "stream",
          "name": "stdout",
          "text": [
            "test : 0.508\n",
            "test : 0.508\n",
            "test : 0.508\n",
            "test : 0.508\n",
            "test : 0.508\n",
            "test : 0.508\n",
            "test : 0.508\n",
            "test : 0.508\n",
            "test : 0.508\n",
            "test : 0.508\n",
            "----------------------\n",
            "min :  0.508\n",
            "max :  0.508\n",
            "mean:  0.508\n",
            "std :  0.0\n"
          ]
        }
      ]
    },
    {
      "cell_type": "markdown",
      "metadata": {
        "id": "RkTM5D30mtEt"
      },
      "source": [
        "## 2 Universal Approximation Theorem (4 points)\n",
        "\n",
        "Please FAIRLY evaluate whether a deep network learns XOR more efficiently than a shallow network with the same number of model parameters. Please discuss why in either case."
      ]
    },
    {
      "cell_type": "markdown",
      "metadata": {
        "id": "RGfq124PmtEt"
      },
      "source": [
        "### 2.0 XOR data"
      ]
    },
    {
      "cell_type": "code",
      "execution_count": 8,
      "metadata": {
        "colab": {
          "base_uri": "https://localhost:8080/",
          "height": 265
        },
        "id": "e7GcM4sImtEt",
        "outputId": "af0b1356-1028-4cd4-cb56-3f176e1fefab"
      },
      "outputs": [
        {
          "output_type": "display_data",
          "data": {
            "text/plain": [
              "<Figure size 432x288 with 1 Axes>"
            ],
            "image/png": "[encoded data removed]"
          },
          "metadata": {
            "needs_background": "light"
          }
        }
      ],
      "source": [
        "N=1000 # samples per cluster\n",
        "XY=t.tensor([[5,5],[5,10],[10,5],[10,10]],dtype=t.float32) # 4 cluster centers\n",
        "Z=t.tensor([0,1,1,0]) # category labels\n",
        "t.cat([t.randn(2,1)+XY[0,0],t.randn(2,1)+XY[0,1]],1)\n",
        "xy,z=t.zeros(4*N,2),t.zeros(4*N,dtype=t.int64)\n",
        "for i in range(4):\n",
        "    xy[i*N:(i+1)*N,]=t.rand(N,2)+XY[i,]\n",
        "    z[i*N:(i+1)*N]=Z[i]\n",
        "xy_np=xy.numpy()\n",
        "z_np=z.numpy().astype(int)\n",
        "cmap=np.array([[1,0,0],[0,1,0]])\n",
        "scatter(xy_np[:,0],xy_np[:,1],color=cmap[z_np]);"
      ]
    },
    {
      "cell_type": "markdown",
      "metadata": {
        "id": "BW3-XXLHmtEt"
      },
      "source": [
        "#### 2.1 A shallow net with one hidden layer"
      ]
    },
    {
      "cell_type": "code",
      "execution_count": null,
      "metadata": {
        "id": "OK2fE3mpmtEt"
      },
      "outputs": [],
      "source": [
        "# Number of free parameters: 2*H+H*2=48\n",
        "\n",
        "H=12 # number of hidden units\n",
        "IO = 2\n",
        "NofParams = IO*H + H*IO\n",
        "model = t.nn.Sequential(\n",
        "    t.nn.Linear(IO, H, bias=False),\n",
        "    t.nn.BatchNorm1d(H),\n",
        "    t.nn.ReLU(),\n",
        "    t.nn.Linear(H, IO, bias=False),\n",
        "    t.nn.Softmax(dim=1)\n",
        ")\n",
        "\n",
        "loss_fn = t.nn.CrossEntropyLoss()\n",
        "optimizer = t.optim.Adam(model.parameters())\n",
        "for i in range(100):\n",
        "    z_pred = model(xy)\n",
        "    loss = loss_fn(z_pred,z)\n",
        "    model.zero_grad()\n",
        "    loss.backward()\n",
        "    optimizer.step()\n",
        "    z_pred = model(xy) \n",
        "    z_pred = t.max(z_pred,1)[1]\n",
        "    print('epoch ',i,':',(z_pred==z).sum().item()/xy.shape[0])"
      ]
    },
    {
      "cell_type": "markdown",
      "metadata": {
        "id": "ymFmEyeymtEt"
      },
      "source": [
        "#### 2.2 A \"deep\" net with three hidden layers"
      ]
    },
    {
      "cell_type": "code",
      "execution_count": null,
      "metadata": {
        "id": "ZOS8oaXZmtEt"
      },
      "outputs": [],
      "source": [
        "# Number of free parameters: 2*H+H*H+H*H+H*2=48\n",
        "H=4 # number of hidden units\n",
        "IO = 2\n",
        "NofParams = IO*H + H*H + H*H + H*IO\n",
        "model = t.nn.Sequential(\n",
        "    t.nn.Linear(2, H, bias=False), # 2*H\n",
        "    t.nn.BatchNorm1d(H),\n",
        "    t.nn.ReLU(), \n",
        "\n",
        "    t.nn.Linear(H, H, bias=False), # H*H\n",
        "    t.nn.BatchNorm1d(H),\n",
        "    t.nn.ReLU(),\n",
        "\n",
        "    t.nn.Linear(H, H, bias=False), # H*H\n",
        "    t.nn.BatchNorm1d(H),\n",
        "    t.nn.ReLU(),\n",
        "\n",
        "    t.nn.Linear(H, 2, bias=False), # H*2\n",
        "    t.nn.Softmax(dim=1)\n",
        ")\n",
        "\n",
        "loss_fn = t.nn.CrossEntropyLoss()\n",
        "optimizer = t.optim.Adam(model.parameters())\n",
        "for i in range(100):\n",
        "    z_pred = model(xy)\n",
        "    loss = loss_fn(z_pred,z)\n",
        "    model.zero_grad()\n",
        "    loss.backward()\n",
        "    optimizer.step()\n",
        "    z_pred = model(xy) \n",
        "    z_pred = t.max(z_pred,1)[1]\n",
        "    print('epoch ',i,':',(z_pred==z).sum().item()/xy.shape[0])"
      ]
    },
    {
      "cell_type": "markdown",
      "metadata": {
        "id": "snTDmOWxmtEt"
      },
      "source": [
        "### 2.3 Your answers"
      ]
    },
    {
      "cell_type": "markdown",
      "metadata": {
        "id": "nh3i6mJimtEu"
      },
      "source": [
        "Please respond to the questions here."
      ]
    },
    {
      "cell_type": "code",
      "source": [
        "class Model:\n",
        "\n",
        "    def __init__(self, isDeep, H):\n",
        "        self.IO = 2\n",
        "        self.H = H\n",
        "        self.NoParams = None\n",
        "        self.model = None\n",
        "        self.AccList = []\n",
        "        if isDeep: self.deep()\n",
        "        else: self.shallow()\n",
        "\n",
        "    def shallow(self):\n",
        "        self.NoParams = self.IO*self.H + self.H*self.IO\n",
        "        self.model = t.nn.Sequential(\n",
        "            t.nn.Linear(self.IO, self.H, bias=False),\n",
        "            t.nn.BatchNorm1d(self.H),\n",
        "            t.nn.ReLU(),\n",
        "            t.nn.Linear(self.H, self.IO, bias=False),\n",
        "            t.nn.Softmax(dim=1)\n",
        "        )\n",
        "\n",
        "    def deep(self):\n",
        "        self.NoParams = self.IO*self.H + self.H*self.H + self.H*self.H + self.H*self.IO\n",
        "        self.model = t.nn.Sequential(\n",
        "            t.nn.Linear(2, self.H, bias=False), # 2*H\n",
        "            t.nn.BatchNorm1d(self.H),\n",
        "            t.nn.ReLU(), \n",
        "            t.nn.Linear(self.H, self.H, bias=False), # H*H\n",
        "            t.nn.BatchNorm1d(self.H),\n",
        "            t.nn.ReLU(),\n",
        "            t.nn.Linear(self.H, self.H, bias=False), # H*H\n",
        "            t.nn.BatchNorm1d(self.H),\n",
        "            t.nn.ReLU(),\n",
        "            t.nn.Linear(self.H, 2, bias=False), # H*2\n",
        "            t.nn.Softmax(dim=1)\n",
        "        )  \n",
        "\n",
        "    def train(self, epoch=100):\n",
        "        loss_fn = t.nn.CrossEntropyLoss()\n",
        "        optimizer = t.optim.Adam(self.model.parameters())\n",
        "        for i in range(100):\n",
        "            z_pred = self.model(xy)\n",
        "            loss = loss_fn(z_pred,z)\n",
        "            self.model.zero_grad()\n",
        "            loss.backward()\n",
        "            optimizer.step()\n",
        "            z_pred = self.model(xy) \n",
        "            z_pred = t.max(z_pred,1)[1]\n",
        "            # print('epoch ',i,':',(z_pred==z).sum().item()/xy.shape[0])\n",
        "            self.AccList.append((z_pred==z).sum().item()/xy.shape[0])\n",
        "\n"
      ],
      "metadata": {
        "id": "rFu76I_9AYfN"
      },
      "execution_count": 11,
      "outputs": []
    },
    {
      "cell_type": "markdown",
      "source": [
        "\n",
        "以下對不同參數數量跑了各自20次的模擬，每次都計算出100個epoch中最後一個的正確率並記錄。"
      ],
      "metadata": {
        "id": "KA7MOs4cRW_1"
      }
    },
    {
      "cell_type": "code",
      "source": [
        "HiddenLayerNodes = np.arange(4, 13, 2)\n",
        "deepAccListAll = []\n",
        "deepNumParamList = []\n",
        "for NumNodes in HiddenLayerNodes:\n",
        "    deepAccList = []\n",
        "    for i in range(40):\n",
        "        deep = Model(isDeep=True, H=NumNodes)\n",
        "        deep.train()\n",
        "        deepAccList.append(deep.AccList[-1])\n",
        "    deepNumParamList.append(deep.NoParams)\n",
        "    print(deepAccList)\n",
        "    deepAccListAll.append(deepAccList)"
      ],
      "metadata": {
        "colab": {
          "base_uri": "https://localhost:8080/",
          "height": 0
        },
        "id": "sqSHrDpJFv8H",
        "outputId": "2b41ffa5-c97d-4beb-ebf3-d1fac5d4a098"
      },
      "execution_count": 72,
      "outputs": [
        {
          "output_type": "stream",
          "name": "stdout",
          "text": [
            "[0.75, 0.75, 0.75, 1.0, 0.75, 0.75, 0.999, 0.75, 1.0, 0.9915, 1.0, 0.5, 1.0, 0.5, 0.77875, 1.0, 0.5, 1.0, 0.75125, 0.75, 0.748, 0.75, 0.737, 1.0, 0.787, 0.75, 1.0, 0.75, 0.75, 1.0, 0.98175, 0.95475, 0.75, 1.0, 0.9295, 0.98325, 0.75, 0.73225, 0.99775, 1.0]\n",
            "[1.0, 1.0, 1.0, 0.99875, 1.0, 1.0, 0.75, 1.0, 1.0, 1.0, 1.0, 1.0, 0.75, 0.75, 1.0, 0.75, 0.75, 1.0, 1.0, 0.75, 1.0, 1.0, 0.75, 1.0, 1.0, 0.82175, 1.0, 1.0, 0.75, 1.0, 1.0, 1.0, 0.73225, 1.0, 1.0, 1.0, 1.0, 1.0, 0.931, 1.0]\n",
            "[1.0, 1.0, 1.0, 1.0, 1.0, 1.0, 1.0, 1.0, 0.75, 1.0, 0.963, 1.0, 1.0, 1.0, 1.0, 1.0, 1.0, 1.0, 1.0, 1.0, 1.0, 1.0, 1.0, 1.0, 1.0, 1.0, 0.75, 1.0, 1.0, 1.0, 1.0, 1.0, 1.0, 1.0, 1.0, 1.0, 1.0, 1.0, 1.0, 1.0]\n",
            "[1.0, 1.0, 1.0, 0.75, 1.0, 1.0, 1.0, 1.0, 1.0, 1.0, 1.0, 1.0, 1.0, 1.0, 1.0, 1.0, 1.0, 1.0, 1.0, 1.0, 1.0, 1.0, 1.0, 1.0, 1.0, 1.0, 1.0, 1.0, 1.0, 1.0, 1.0, 1.0, 1.0, 1.0, 1.0, 1.0, 1.0, 1.0, 1.0, 1.0]\n",
            "[1.0, 1.0, 1.0, 1.0, 1.0, 0.75, 1.0, 1.0, 1.0, 1.0, 1.0, 1.0, 1.0, 1.0, 1.0, 1.0, 1.0, 1.0, 1.0, 1.0, 1.0, 1.0, 1.0, 1.0, 1.0, 1.0, 1.0, 1.0, 1.0, 0.75, 1.0, 1.0, 1.0, 1.0, 1.0, 1.0, 1.0, 1.0, 1.0, 1.0]\n"
          ]
        }
      ]
    },
    {
      "cell_type": "code",
      "source": [
        "deepAccListAll = np.array(deepAccListAll)\n",
        "deepAccMeanList = np.round(deepAccListAll.mean(axis=1), 4)\n",
        "deepAccStdList = np.round(deepAccListAll.std(axis=1), 4)\n",
        "table = np.array([deepNumParamList, deepAccMeanList, deepAccStdList]).T\n",
        "headers = ['#Params','MeanAcc','StdAcc']\n",
        "print(tabulate(table, headers, tablefmt='simple'))"
      ],
      "metadata": {
        "colab": {
          "base_uri": "https://localhost:8080/",
          "height": 0
        },
        "id": "6mR3RIyUGZbN",
        "outputId": "b454f71d-649b-4dfa-e5a0-e94a32693588"
      },
      "execution_count": 73,
      "outputs": [
        {
          "output_type": "stream",
          "name": "stdout",
          "text": [
            "  #Params    MeanAcc    StdAcc\n",
            "---------  ---------  --------\n",
            "       48     0.8405    0.1511\n",
            "       96     0.9371    0.1061\n",
            "      160     0.9866    0.0546\n",
            "      240     0.9938    0.039\n",
            "      336     0.9875    0.0545\n"
          ]
        }
      ]
    },
    {
      "cell_type": "markdown",
      "source": [
        "可以看到在deep的模型下，當參數數量愈多，正確率就會越高，結果也會越穩定"
      ],
      "metadata": {
        "id": "3a8OXfsyTVpH"
      }
    },
    {
      "cell_type": "code",
      "source": [
        "deepAccStdList"
      ],
      "metadata": {
        "colab": {
          "base_uri": "https://localhost:8080/",
          "height": 0
        },
        "id": "SKhcJu6lHwjh",
        "outputId": "2813a5cc-c1fb-4ee8-8d0b-5a676b755a42"
      },
      "execution_count": 44,
      "outputs": [
        {
          "output_type": "execute_result",
          "data": {
            "text/plain": [
              "array([0.16602056, 0.08137561, 0.07469308, 0.        , 0.        ])"
            ]
          },
          "metadata": {},
          "execution_count": 44
        }
      ]
    },
    {
      "cell_type": "code",
      "source": [
        "HiddenLayerNodes = np.arange(12, 96, 12)\n",
        "shallowAccListAll = []\n",
        "shallowNumParamList = []\n",
        "for NumNodes in HiddenLayerNodes:\n",
        "    shallowAccList = []\n",
        "    for i in range(40):\n",
        "        shallow = Model(isDeep=False, H=NumNodes)\n",
        "        shallow.train()\n",
        "        shallowAccList.append(shallow.AccList[-1])\n",
        "    shallowNumParamList.append(shallow.NoParams)\n",
        "    print(shallowAccList)\n",
        "    shallowAccListAll.append(shallowAccList)"
      ],
      "metadata": {
        "colab": {
          "base_uri": "https://localhost:8080/",
          "height": 0
        },
        "id": "fCjiltpxLZbI",
        "outputId": "04cdf126-9469-48af-a77a-5858d60fe7b6"
      },
      "execution_count": 77,
      "outputs": [
        {
          "output_type": "stream",
          "name": "stdout",
          "text": [
            "[0.88525, 0.75, 1.0, 1.0, 0.89425, 1.0, 0.72925, 0.96, 0.991, 1.0, 1.0, 0.9395, 1.0, 0.99825, 1.0, 0.75, 0.981, 1.0, 1.0, 1.0, 1.0, 1.0, 1.0, 1.0, 0.715, 0.75, 1.0, 0.99925, 1.0, 0.75, 1.0, 1.0, 1.0, 0.9845, 1.0, 1.0, 0.75, 1.0, 0.75, 1.0]\n",
            "[1.0, 1.0, 1.0, 1.0, 1.0, 1.0, 1.0, 1.0, 1.0, 1.0, 1.0, 1.0, 1.0, 1.0, 1.0, 1.0, 1.0, 1.0, 1.0, 1.0, 1.0, 1.0, 1.0, 1.0, 1.0, 1.0, 1.0, 1.0, 1.0, 1.0, 1.0, 1.0, 1.0, 1.0, 1.0, 1.0, 1.0, 1.0, 1.0, 1.0]\n",
            "[1.0, 1.0, 1.0, 1.0, 1.0, 1.0, 1.0, 1.0, 1.0, 1.0, 1.0, 1.0, 1.0, 1.0, 1.0, 1.0, 1.0, 1.0, 1.0, 1.0, 1.0, 1.0, 1.0, 1.0, 1.0, 1.0, 1.0, 1.0, 1.0, 1.0, 1.0, 1.0, 1.0, 1.0, 1.0, 1.0, 1.0, 1.0, 1.0, 1.0]\n",
            "[1.0, 1.0, 1.0, 1.0, 1.0, 1.0, 1.0, 1.0, 1.0, 1.0, 1.0, 1.0, 1.0, 1.0, 1.0, 1.0, 1.0, 1.0, 1.0, 1.0, 1.0, 1.0, 1.0, 1.0, 1.0, 1.0, 1.0, 1.0, 1.0, 1.0, 1.0, 1.0, 1.0, 1.0, 1.0, 1.0, 1.0, 1.0, 1.0, 1.0]\n",
            "[1.0, 1.0, 1.0, 1.0, 1.0, 1.0, 1.0, 1.0, 1.0, 1.0, 1.0, 1.0, 1.0, 1.0, 1.0, 1.0, 1.0, 1.0, 1.0, 1.0, 1.0, 1.0, 1.0, 1.0, 1.0, 1.0, 1.0, 1.0, 1.0, 1.0, 1.0, 1.0, 1.0, 1.0, 1.0, 1.0, 1.0, 1.0, 1.0, 1.0]\n",
            "[1.0, 1.0, 1.0, 1.0, 1.0, 1.0, 1.0, 1.0, 1.0, 1.0, 1.0, 1.0, 1.0, 1.0, 1.0, 1.0, 1.0, 1.0, 1.0, 1.0, 1.0, 1.0, 1.0, 1.0, 1.0, 1.0, 1.0, 1.0, 1.0, 1.0, 1.0, 1.0, 1.0, 1.0, 1.0, 1.0, 1.0, 1.0, 1.0, 1.0]\n",
            "[1.0, 1.0, 1.0, 1.0, 1.0, 1.0, 1.0, 1.0, 1.0, 1.0, 1.0, 1.0, 1.0, 1.0, 1.0, 1.0, 1.0, 1.0, 1.0, 1.0, 1.0, 1.0, 1.0, 1.0, 1.0, 1.0, 1.0, 1.0, 1.0, 1.0, 1.0, 1.0, 1.0, 1.0, 1.0, 1.0, 1.0, 1.0, 1.0, 1.0]\n"
          ]
        }
      ]
    },
    {
      "cell_type": "code",
      "source": [
        "shallowAccListAll = np.array(shallowAccListAll)\n",
        "shallowAccMeanList = np.round(shallowAccListAll.mean(axis=1), 4)\n",
        "shallowAccStdList = np.round(shallowAccListAll.std(axis=1), 4)\n",
        "table = np.array([shallowNumParamList, shallowAccMeanList, shallowAccStdList]).T\n",
        "headers = ['#Params','MeanAcc','StdAcc']\n",
        "print(tabulate(table, headers, tablefmt='simple'))"
      ],
      "metadata": {
        "colab": {
          "base_uri": "https://localhost:8080/",
          "height": 0
        },
        "id": "o6dBpHrcOt79",
        "outputId": "a41d84e6-9718-4026-9ae5-427154be3d30"
      },
      "execution_count": 78,
      "outputs": [
        {
          "output_type": "stream",
          "name": "stdout",
          "text": [
            "  #Params    MeanAcc    StdAcc\n",
            "---------  ---------  --------\n",
            "       48     0.9394    0.1016\n",
            "       96     1         0\n",
            "      144     1         0\n",
            "      192     1         0\n",
            "      240     1         0\n",
            "      288     1         0\n",
            "      336     1         0\n"
          ]
        }
      ]
    },
    {
      "cell_type": "markdown",
      "source": [
        "可以看到shallow network在參數超過96個之後就每次都達到100%的正確率"
      ],
      "metadata": {
        "id": "d4F8t7zHYm6y"
      }
    },
    {
      "cell_type": "markdown",
      "source": [
        "# Conclusion"
      ],
      "metadata": {
        "id": "I81eNuliYzcA"
      }
    },
    {
      "cell_type": "markdown",
      "source": [
        "從以上的模擬可以看出shallow network的表現比較好，可能是因為在XOR這樣較簡單的問題上面，不需要太多層的轉換就能做好，而deep network因為太多的計算導致在學習的過程中比較難達到最好的weight.\n",
        "\n"
      ],
      "metadata": {
        "id": "ZnLz_41bY_lq"
      }
    },
    {
      "cell_type": "code",
      "source": [],
      "metadata": {
        "id": "ePdwlTEwZnaW"
      },
      "execution_count": null,
      "outputs": []
    }
  ],
  "metadata": {
    "kernelspec": {
      "display_name": "Python 3 (ipykernel)",
      "language": "python",
      "name": "python3"
    },
    "language_info": {
      "codemirror_mode": {
        "name": "ipython",
        "version": 3
      },
      "file_extension": ".py",
      "mimetype": "text/x-python",
      "name": "python",
      "nbconvert_exporter": "python",
      "pygments_lexer": "ipython3",
      "version": "3.9.12"
    },
    "toc": {
      "base_numbering": 1,
      "nav_menu": {},
      "number_sections": true,
      "sideBar": true,
      "skip_h1_title": false,
      "title_cell": "Table of Contents",
      "title_sidebar": "Contents",
      "toc_cell": false,
      "toc_position": {},
      "toc_section_display": true,
      "toc_window_display": false
    },
    "colab": {
      "provenance": []
    },
    "accelerator": "GPU",
    "gpuClass": "standard"
  },
  "nbformat": 4,
  "nbformat_minor": 0
}