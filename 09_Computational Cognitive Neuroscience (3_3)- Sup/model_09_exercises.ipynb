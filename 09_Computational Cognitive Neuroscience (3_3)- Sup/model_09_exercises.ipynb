{
 "cells": [
  {
   "cell_type": "markdown",
   "metadata": {},
   "source": [
    "# Neural & Behavioral Modeling - Week 9 (Exercises)\n",
    "by 李彥廷 (b08207008@ntu.edu.tw)"
   ]
  },
  {
   "cell_type": "code",
   "execution_count": 164,
   "metadata": {},
   "outputs": [],
   "source": [
    "%config IPCompleter.greedy=True \n",
    "%matplotlib inline\n",
    "from numpy import *\n",
    "from numpy.linalg import inv\n",
    "from matplotlib.pyplot import *\n",
    "from IPython.display import *"
   ]
  },
  {
   "cell_type": "markdown",
   "metadata": {},
   "source": [
    "## 1 A Two-layered Linear Network as a Regression Model (8 points)\n",
    "Data fitting of the following network is poor. Please check if adding bias terms or changing network hyperparameters (e.g., learning rate, amount of training, etc.) help. If not, please explain why the fitting is poor given that the network/regression model has sufficient degrees of freedom (i.e., network weights or regression coefficients) to overfit such a small data set."
   ]
  },
  {
   "cell_type": "code",
   "execution_count": 165,
   "metadata": {},
   "outputs": [
    {
     "name": "stdout",
     "output_type": "stream",
     "text": [
      "Ideal results:\n",
      "[[1 0]\n",
      " [1 0]\n",
      " [1 0]\n",
      " [0 1]\n",
      " [0 1]\n",
      " [0 1]]\n",
      "Reality:\n",
      "[[ 0.667 -0.   ]\n",
      " [ 0.666  0.   ]\n",
      " [ 1.333  0.   ]\n",
      " [-0.     0.666]\n",
      " [ 0.     0.666]\n",
      " [ 0.     1.331]]\n"
     ]
    },
    {
     "data": {
      "image/png": "[encoded data removed]",
      "text/plain": [
       "<Figure size 640x480 with 1 Axes>"
      ]
     },
     "metadata": {},
     "output_type": "display_data"
    }
   ],
   "source": [
    "# Here we train a two-layered network of units \n",
    "# with a linear activation function f(x)=x\n",
    "# to associate patterns using the delta rule dW=(t-y)*x\n",
    "\n",
    "set_printoptions(precision=3,suppress=True)\n",
    "\n",
    "X=array([[1,0,0,0],[0,1,0,0],[1,1,0,0],[0,0,1,0],[0,0,0,1],[0,0,1,1]])\n",
    "Y=array([[1,0],[1,0],[1,0],[0,1],[0,1],[0,1]])\n",
    "[Np,Nx]=X.shape; # find numbers of patterns and input dimensions # (6,4)\n",
    "[Np,Ny]=Y.shape; # find numbers of patterns and output dimensions # (6,2)\n",
    "W=random.rand(Nx,Ny); # set initially random connectivity matrix\n",
    "\n",
    "eta=.005; # set the learning rate \n",
    "tol=1e-4; # set the tolerance/stopping criterion; try 0.01\n",
    "nIts=100000; # set the maximum number of allowed iterations\n",
    "totErr=10; # set the maximum training error to an initially high value\n",
    "totErr_hist=[] # history of totall error\n",
    "\n",
    "for c in range(nIts): # for each learning iteration\n",
    "    p=mod(c,Np) # sequential presentation of the training samples\n",
    "    #p=random.randint(nP); # choose a traing pattern at random\n",
    "    \n",
    "    # Forward propagation:\n",
    "    y=X[p].dot(W)\n",
    "    \n",
    "    # Backward propagation:\n",
    "    deltaW=eta*outer(X[p],Y[p].T-y) # delta learning\n",
    "    W=W+deltaW;  # apply the weight update\n",
    "    \n",
    "    # Checking if done:\n",
    "    if(mod(c,10*Np)==0): # after 10 updates check total errors\n",
    "        predY=X.dot(W) # testing ALL the training samples\n",
    "        totErr=sum((Y-predY)**2) # sum of squared errors for all samples\n",
    "        totErr_hist.append(totErr)\n",
    "    if(totErr<tol):\n",
    "        break # break if max error is below tolerance\n",
    "        \n",
    "plot(totErr_hist);\n",
    "title(str(c)+':'+str(totErr));\n",
    "print('Ideal results:')\n",
    "print(Y)\n",
    "print('Reality:')\n",
    "print(predY) # predicted Y"
   ]
  },
  {
   "cell_type": "markdown",
   "metadata": {},
   "source": [
    "這個2-layered linear network可以寫成以下的矩陣形式：\n",
    "  \n",
    "$$\n",
    "Y_{p \\times m} = X_{p \\times n} W_{n \\times m} + \\epsilon_{p \\times m}\n",
    "$$\n",
    "\n",
    "$$\n",
    "\\begin{pmatrix}\n",
    "1 & 0 \\\\\n",
    "1 & 0 \\\\\n",
    "1 & 0 \\\\\n",
    "0 & 1 \\\\\n",
    "0 & 1 \\\\\n",
    "0 & 1 \\\\\n",
    "\\end{pmatrix}\n",
    "=\n",
    "\\begin{pmatrix}\n",
    "1 & 0 & 0 & 0 \\\\\n",
    "0 & 1 & 0 & 0 \\\\\n",
    "1 & 1 & 0 & 0 \\\\\n",
    "0 & 0 & 1 & 0 \\\\ \n",
    "0 & 0 & 0 & 1 \\\\\n",
    "0 & 0 & 1 & 1\n",
    "\\end{pmatrix}\n",
    "\\begin{pmatrix}\n",
    "w_{11} & w_{12} \\\\\n",
    "w_{21} & w_{22} \\\\\n",
    "w_{31} & w_{32} \\\\\n",
    "w_{41} & w_{42} \\\\\n",
    "\\end{pmatrix}\n",
    "+\n",
    "\\varepsilon\n",
    "$$\n",
    "  \n",
    "而且這個linear regression model的解是有closed form的：\n",
    "$$\n",
    "W^\\star = (X^TX)^{-1}X^{T}Y\n",
    "$$ \n",
    "如果照這個公式算的話，可以發現經過上面的訓練後的weight已經幾乎是最佳解："
   ]
  },
  {
   "cell_type": "code",
   "execution_count": 166,
   "metadata": {},
   "outputs": [
    {
     "name": "stdout",
     "output_type": "stream",
     "text": [
      "Optimal solution provided by closed form solution.\n",
      "[[0.667 0.   ]\n",
      " [0.667 0.   ]\n",
      " [0.    0.667]\n",
      " [0.    0.667]]\n",
      "\n",
      "Solution provided by the network.\n",
      "[[ 0.666 -0.   ]\n",
      " [ 0.666  0.   ]\n",
      " [-0.     0.667]\n",
      " [ 0.     0.666]]\n"
     ]
    }
   ],
   "source": [
    "W_opt = inv(X.T@X)@X.T.dot(Y)\n",
    "print('Optimal solution provided by closed form solution.')\n",
    "print(W_opt)\n",
    "print()\n",
    "print('Solution provided by the network.')\n",
    "print(W)"
   ]
  },
  {
   "cell_type": "markdown",
   "metadata": {},
   "source": [
    "由於這個模型沒有包含bias term，代表他隱含了一個限制：當X一筆資料全為0，則y必須是[0,0]，即：  \n",
    "$y_1 = w_{11}x_1+w_{21}x_1+w_{31}x_1+w_{41}x_4$  \n",
    "$y_2 = w_{12}x_1+w_{22}x_1+w_{32}x_1+w_{42}x_4$  \n",
    "  \n",
    "由X的前三筆資料就可以看出，不可能有w可以滿足以上式子，所以一定會有residual的存在。  \n",
    "$X_1$ = [1,0,0,0] -> $w_{11}$需要是1，$y_1$才會是1。    \n",
    "$X_2$ = [0,1,0,0] -> $w_{21}$需要是1，$y_1$才會是1。    \n",
    "$X_3$ = [1,1,0,0] -> $w_{11}+w_{21}=1$，$y_1$才會是1。  \n",
    "然而$w_{11}=1$, $w_{21}=1$, $w_{11}+w_{21}=1$不會同時成立。"
   ]
  },
  {
   "cell_type": "markdown",
   "metadata": {},
   "source": [
    "## A Two-layered Linear Network with bias term"
   ]
  },
  {
   "cell_type": "code",
   "execution_count": 167,
   "metadata": {},
   "outputs": [
    {
     "name": "stdout",
     "output_type": "stream",
     "text": [
      "Ideal results:\n",
      "[[1 0]\n",
      " [1 0]\n",
      " [1 0]\n",
      " [0 1]\n",
      " [0 1]\n",
      " [0 1]]\n",
      "Reality:\n",
      "[[ 0.834  0.166]\n",
      " [ 0.832  0.168]\n",
      " [ 1.166 -0.166]\n",
      " [ 0.168  0.832]\n",
      " [ 0.168  0.832]\n",
      " [-0.164  1.164]]\n"
     ]
    },
    {
     "data": {
      "image/png": "[encoded data removed]",
      "text/plain": [
       "<Figure size 640x480 with 1 Axes>"
      ]
     },
     "metadata": {},
     "output_type": "display_data"
    }
   ],
   "source": [
    "### Write your codes with bias terms here\n",
    "# Here we train a two-layered network of units \n",
    "# with a linear activation function f(x)=x\n",
    "# to associate patterns using the delta rule dW=(t-y)*x\n",
    "\n",
    "set_printoptions(precision=3,suppress=True)\n",
    "\n",
    "X=array([[1,0,0,0,1],[0,1,0,0,1],[1,1,0,0,1],[0,0,1,0,1],[0,0,0,1,1],[0,0,1,1,1]])\n",
    "Y=array([[1,0],[1,0],[1,0],[0,1],[0,1],[0,1]])\n",
    "[Np,Nx]=X.shape; # find numbers of patterns and input dimensions # (6,4)\n",
    "[Np,Ny]=Y.shape; # find numbers of patterns and output dimensions # (6,2)\n",
    "W=random.rand(Nx,Ny); # set initially random connectivity matrix\n",
    "\n",
    "eta=.005; # set the learning rate \n",
    "tol=1e-4; # set the tolerance/stopping criterion; try 0.01\n",
    "nIts=100000; # set the maximum number of allowed iterations\n",
    "totErr=10; # set the maximum training error to an initially high value\n",
    "totErr_hist=[] # history of totall error\n",
    "\n",
    "for c in range(nIts): # for each learning iteration\n",
    "    p=mod(c,Np) # sequential presentation of the training samples\n",
    "    #p=random.randint(nP); # choose a traing pattern at random\n",
    "    \n",
    "    # Forward propagation:\n",
    "    y=X[p].dot(W)\n",
    "    \n",
    "    # Backward propagation:\n",
    "    deltaW=eta*outer(X[p],Y[p].T-y) # delta learning\n",
    "    W=W+deltaW;  # apply the weight update\n",
    "    \n",
    "    # Checking if done:\n",
    "    if(mod(c,10*Np)==0): # after 10 updates check total errors\n",
    "        predY=X.dot(W) # testing ALL the training samples\n",
    "        totErr=sum((Y-predY)**2) # sum of squared errors for all samples\n",
    "        totErr_hist.append(totErr)\n",
    "    if(totErr<tol):\n",
    "        break # break if max error is below tolerance\n",
    "        \n",
    "plot(totErr_hist);\n",
    "title(str(c)+':'+str(totErr));\n",
    "print('Ideal results:')\n",
    "print(Y)\n",
    "print('Reality:')\n",
    "print(predY) # predicted Y"
   ]
  },
  {
   "cell_type": "markdown",
   "metadata": {},
   "source": [
    "這個加了biased term的2-layered linear network可以寫成以下的矩陣形式：  \n",
    "  \n",
    "$$\n",
    "Y_{p \\times m} = X_{p \\times (n+1)} W_{(n+1)\\times m} + \\epsilon_{p \\times m}\n",
    "$$\n",
    "\n",
    "$$\n",
    "\\begin{pmatrix}\n",
    "1 & 0 \\\\\n",
    "1 & 0 \\\\\n",
    "1 & 0 \\\\\n",
    "0 & 1 \\\\\n",
    "0 & 1 \\\\\n",
    "0 & 1 \\\\\n",
    "\\end{pmatrix}\n",
    "=\n",
    "\\begin{pmatrix}\n",
    "1 & 0 & 0 & 0 & 1\\\\\n",
    "0 & 1 & 0 & 0 & 1 \\\\\n",
    "1 & 1 & 0 & 0 & 1 \\\\\n",
    "0 & 0 & 1 & 0 & 1 \\\\ \n",
    "0 & 0 & 0 & 1 & 1 \\\\\n",
    "0 & 0 & 1 & 1 & 1\n",
    "\\end{pmatrix}\n",
    "\\begin{pmatrix}\n",
    "w_{11} & w_{12} \\\\\n",
    "w_{21} & w_{22} \\\\\n",
    "w_{31} & w_{32} \\\\\n",
    "w_{41} & w_{42} \\\\\n",
    "b_1 & b_2\n",
    "\\end{pmatrix}\n",
    "+\n",
    "\\varepsilon\n",
    "$$\n",
    "\n",
    "這個linear regression model的解的closed form也是：\n",
    "$\n",
    "W^\\star = (X^TX)^{-1}X^{T}Y\n",
    "$  \n",
    "依照weight的最佳解公式算的話，最佳解如下："
   ]
  },
  {
   "cell_type": "code",
   "execution_count": 168,
   "metadata": {},
   "outputs": [
    {
     "name": "stdout",
     "output_type": "stream",
     "text": [
      "Optimal solution provided by closed form solution.\n",
      "[[ 0.333 -0.333]\n",
      " [ 0.333 -0.333]\n",
      " [-0.333  0.333]\n",
      " [-0.333  0.333]\n",
      " [ 0.5    0.5  ]]\n",
      "\n",
      "Solution provided by the network.\n",
      "[[ 0.333 -0.333]\n",
      " [ 0.332 -0.332]\n",
      " [-0.334  0.334]\n",
      " [-0.332  0.332]\n",
      " [ 0.5    0.5  ]]\n"
     ]
    }
   ],
   "source": [
    "W_opt = inv(X.T@X)@X.T.dot(Y)\n",
    "print('Optimal solution provided by closed form solution.')\n",
    "print(W_opt)\n",
    "print()\n",
    "print('Solution provided by the network.')\n",
    "print(W)"
   ]
  },
  {
   "cell_type": "markdown",
   "metadata": {},
   "source": [
    "## Comparison of two model"
   ]
  },
  {
   "cell_type": "markdown",
   "metadata": {},
   "source": [
    "這兩個model都可以被視為兩個linear regression model合在一起  \n",
    "$y_1 = w_{11}x_1+w_{21}x_1+w_{31}x_1+w_{41}x_4(+b_{1})$  \n",
    "$y_2 = w_{12}x_1+w_{22}x_1+w_{32}x_1+w_{42}x_4(+b_{2})$  \n",
    "我們有六筆資料，然後分別有4個weight(和1個bias)要估計，總共四(五)個參數，自由度大於0，所以應該會有residual才對。\n",
    "model要just-identified才可以達到ideal的fit (overfit)，但是這樣的資料還有模型不可能。"
   ]
  },
  {
   "cell_type": "code",
   "execution_count": null,
   "metadata": {},
   "outputs": [],
   "source": []
  }
 ],
 "metadata": {
  "kernelspec": {
   "display_name": "Python 3 (ipykernel)",
   "language": "python",
   "name": "python3"
  },
  "language_info": {
   "codemirror_mode": {
    "name": "ipython",
    "version": 3
   },
   "file_extension": ".py",
   "mimetype": "text/x-python",
   "name": "python",
   "nbconvert_exporter": "python",
   "pygments_lexer": "ipython3",
   "version": "3.9.12"
  },
  "toc": {
   "base_numbering": 1,
   "nav_menu": {},
   "number_sections": true,
   "sideBar": true,
   "skip_h1_title": false,
   "title_cell": "Table of Contents",
   "title_sidebar": "Contents",
   "toc_cell": false,
   "toc_position": {},
   "toc_section_display": true,
   "toc_window_display": false
  }
 },
 "nbformat": 4,
 "nbformat_minor": 2
}
