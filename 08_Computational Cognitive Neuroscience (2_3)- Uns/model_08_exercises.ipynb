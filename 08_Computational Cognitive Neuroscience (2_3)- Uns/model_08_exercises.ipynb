{
 "cells": [
  {
   "cell_type": "markdown",
   "metadata": {},
   "source": [
    "# Neural & Behavioral Modeling - Week 8 (Exercises)\n",
    "by 李彥廷 (b08207008@ntu.edu.tw)"
   ]
  },
  {
   "cell_type": "code",
   "execution_count": 1,
   "metadata": {},
   "outputs": [],
   "source": [
    "%config IPCompleter.greedy=True \n",
    "%matplotlib inline\n",
    "from numpy import *\n",
    "from matplotlib.pyplot import *\n",
    "from IPython.display import *"
   ]
  },
  {
   "cell_type": "markdown",
   "metadata": {},
   "source": [
    "## 1 InStar Learning (4 points)\n",
    "Try to replicate Fig.2 of <a href=https://arxiv.org/pdf/1612.03270.pdf>[1]</a> = Fig. 3A of <a href=https://sci-hub.se/10.1126/science.1212003>[2]</a>:\n",
    "\n",
    "[1] Huang, T. R. (2016). Hebbian plasticity for improving perceptual decisions. arXiv preprint arXiv:1612.03270.\n",
    "\n",
    "[2] Shibata, K., Watanabe, T., Sasaki, Y., & Kawato, M. (2011). Perceptual learning incepted by decoded fMRI neurofeedback without stimulus presentation. Science, 334(6061), 1413-1415."
   ]
  },
  {
   "cell_type": "code",
   "execution_count": 2,
   "metadata": {},
   "outputs": [],
   "source": [
    "p=array([ # try replacing -1 to 0\n",
    "    \n",
    "    [1,0, 1,\n",
    "     1,0, 1,\n",
    "     1,0, 1], # 3x3 pattern 1 \n",
    "    \n",
    "    [0, 1, 1,\n",
    "      1,0, 1,\n",
    "      1, 1,0], # 3x3 pattern 2\n",
    "    \n",
    "    [ 1, 1,0,\n",
    "      1,0, 1,\n",
    "     0, 1, 1],   # 3x3 pattern 3\n",
    "])"
   ]
  },
  {
   "cell_type": "code",
   "execution_count": 3,
   "metadata": {},
   "outputs": [
    {
     "data": {
      "image/png": "[encoded data removed]",
      "text/plain": [
       "<Figure size 640x480 with 3 Axes>"
      ]
     },
     "metadata": {},
     "output_type": "display_data"
    }
   ],
   "source": [
    "for i in range(3):\n",
    "    subplot(2,3,i+1);\n",
    "    imshow(p[i].reshape((3,3)),cmap='gray')"
   ]
  },
  {
   "cell_type": "code",
   "execution_count": 4,
   "metadata": {},
   "outputs": [],
   "source": [
    "def unit_vector(vector):\n",
    "    return vector / np.linalg.norm(vector)"
   ]
  },
  {
   "cell_type": "markdown",
   "metadata": {},
   "source": [
    "在test中，將pattern加上不同量的noise來當作input，分別跟三個y做內積，最大的那個代表activate的，會當作回答的答案。"
   ]
  },
  {
   "cell_type": "code",
   "execution_count": 5,
   "metadata": {},
   "outputs": [],
   "source": [
    "def test(snr, ws):\n",
    "    lst = [[],[],[]]\n",
    "    for i in range(150):\n",
    "        r = i%3\n",
    "        xs = p + snr * random.normal(size=(3,9))\n",
    "        current_x = unit_vector(xs[r])\n",
    "        unit_ws = [unit_vector(w) for w in ws]\n",
    "        y1 = dot(unit_ws[0],current_x)\n",
    "        y2 = dot(unit_ws[1],current_x)\n",
    "        y3 = dot(unit_ws[2],current_x)\n",
    "        ys = array([y1,y2,y3])\n",
    "        ans = ys.argmax(axis=0)\n",
    "        lst[r].append(ans==r)\n",
    "    \n",
    "    acclist = list(map(mean,lst))\n",
    "    \n",
    "    return acclist"
   ]
  },
  {
   "cell_type": "markdown",
   "metadata": {},
   "source": [
    "learning 是將x這個input設定為pattern 2，然後透過instar learning來學習該pattern。最後w2會很接近pattern 2  \n",
    "這裡有將x跟w都轉成單位向量，以免y>1，也就是y會是x和w的cosine similarity"
   ]
  },
  {
   "cell_type": "code",
   "execution_count": 6,
   "metadata": {},
   "outputs": [],
   "source": [
    "# Instar learning:\n",
    "def learning(ws):\n",
    "#     print('pre',ws[1])\n",
    "    for i in range(1500): # trials \n",
    "        x = p[1]\n",
    "        unit_x = unit_vector(x)\n",
    "        unit_ws = [unit_vector(w) for w in ws]\n",
    "        y1 = dot(unit_ws[0],unit_x)\n",
    "        y2 = dot(unit_ws[1],unit_x)\n",
    "        y3 = dot(unit_ws[2],unit_x)\n",
    "        ys = array([y1,y2,y3])\n",
    "        largest = ys.argmax(axis=0)\n",
    "        ws[largest]=ws[largest]+ys[largest]*(x-ws[largest]) # postsynaptically gated InStar\n",
    "#     print('post',ws[1]) \n",
    "    return ws"
   ]
  },
  {
   "cell_type": "markdown",
   "metadata": {},
   "source": [
    "每個受試者有對三個pattern的weight，對應到不同的orientation再加上一點noise，沒有用完全隨機的原因是這樣才能在test上不會是隨機的表現，而加上一點隨機是為了讓之後learning還有空間可以進步。  \n",
    "整個simulation會先進行pretest，再針對pattern 2來學習，最後再做一次posttest\n",
    "這個simulation共有20個受試者。"
   ]
  },
  {
   "cell_type": "code",
   "execution_count": 7,
   "metadata": {},
   "outputs": [],
   "source": [
    "def Subject():\n",
    "    snrlist = [2,1.2,0.5,0.3]\n",
    "    w1 = p[0] + 0.3*random.normal(size=9)\n",
    "    w2 = p[1] + 0.3*random.normal(size=9)\n",
    "    w3 = p[2] + 0.3*random.normal(size=9)\n",
    "    ws = [w1,w2,w3]\n",
    "\n",
    "    pretest = []\n",
    "    for snr in snrlist:\n",
    "        pretest.append(test(snr, ws))\n",
    "    pretest = array(pretest).T  \n",
    "    ws = learning(ws)\n",
    "\n",
    "    postest = []\n",
    "    for snr in snrlist:\n",
    "        postest.append(test(snr,ws))\n",
    "    postest = array(postest).T  \n",
    "    return pretest, postest"
   ]
  },
  {
   "cell_type": "code",
   "execution_count": 8,
   "metadata": {},
   "outputs": [],
   "source": [
    "p1 = [[],[]]\n",
    "p2 = [[],[]]\n",
    "p3 = [[],[]]\n",
    "for i in range(20):\n",
    "    pre, post = Subject()\n",
    "    p1[0].append(pre[0])\n",
    "    p1[1].append(post[0])\n",
    "    p2[0].append(pre[1])\n",
    "    p2[1].append(post[1])\n",
    "    p3[0].append(pre[2])\n",
    "    p3[1].append(post[2])"
   ]
  },
  {
   "cell_type": "code",
   "execution_count": 9,
   "metadata": {},
   "outputs": [],
   "source": [
    "p1pre = array(p1[0])\n",
    "p1post = array(p1[1])\n",
    "p2pre = array(p2[0])\n",
    "p2post = array(p2[1])\n",
    "p3pre = array(p3[0])\n",
    "p3post = array(p3[1])"
   ]
  },
  {
   "cell_type": "markdown",
   "metadata": {},
   "source": [
    "結果可以發現，只有有經過learning的pattern在posttest的表現比pretest好"
   ]
  },
  {
   "cell_type": "markdown",
   "metadata": {},
   "source": [
    "# Pattern 1"
   ]
  },
  {
   "cell_type": "code",
   "execution_count": 10,
   "metadata": {},
   "outputs": [
    {
     "data": {
      "image/png": "[encoded data removed]",
      "text/plain": [
       "<Figure size 1200x300 with 3 Axes>"
      ]
     },
     "metadata": {},
     "output_type": "display_data"
    }
   ],
   "source": [
    "fig, axs = subplots(1,3,figsize=(12,3))\n",
    "axs[0].plot([1,2,3,4],p1pre.mean(axis=0),'o-',color='b')\n",
    "axs[0].plot([1,2,3,4],p1post.mean(axis=0),'o-',color='r')\n",
    "axs[1].plot([1,2,3,4],p2pre.mean(axis=0),'o-',color='b')\n",
    "axs[1].plot([1,2,3,4],p2post.mean(axis=0),'o-',color='r')\n",
    "axs[2].plot([1,2,3,4],p3pre.mean(axis=0),'o-',color='b')\n",
    "axs[2].plot([1,2,3,4],p3post.mean(axis=0),'o-',color='r')\n",
    "i=0\n",
    "for ax in axs:\n",
    "    i+=1\n",
    "    ax.set_ylim(0.49, 1.01)\n",
    "    ax.legend(['pretest','posttest'])\n",
    "    ax.set_title(f'Pattern {i} (N=20)')"
   ]
  },
  {
   "cell_type": "markdown",
   "metadata": {},
   "source": [
    "## 2 PyTorch (4 points)\n",
    "Read <a href=\"https://www.pytorchtutorial.com/pytorch-for-numpy-users/\">this tutorial</a> first and port the following Instar Learning from NumPy to PyTorch:"
   ]
  },
  {
   "cell_type": "code",
   "execution_count": 11,
   "metadata": {},
   "outputs": [
    {
     "name": "stdout",
     "output_type": "stream",
     "text": [
      "[0.55886646 0.29265716 0.46735114] 0.4001431746844597\n",
      "[0.36426373 0.29577122 0.52360679] 0.42409447479275314\n",
      "[0.24816691 0.29762901 0.55716799] 0.4393218096476784\n",
      "[0.18172795 0.29869218 0.57637413] 0.4484061896534995\n",
      "[0.14465575 0.29928541 0.58709094] 0.45360492597453905\n",
      "[0.12427014 0.29961163 0.592984  ] 0.45650576305445995\n",
      "[0.11315197 0.29978954 0.59619804] 0.4581009023575768\n",
      "[0.1071156  0.29988614 0.59794303] 0.458970880701236\n",
      "[0.10384638 0.29993845 0.59888809] 0.4594432164921363\n",
      "[0.10207821 0.29996674 0.59939923] 0.45969902689787895\n"
     ]
    }
   ],
   "source": [
    "# Instar learning:\n",
    "x=array([0.1,0.3,0.6])\n",
    "W=random.rand(3)\n",
    "for i in range(10): # trials \n",
    "    y=dot(W,x) \n",
    "    W+=y*(x-W) # postsynaptically gated InStar \n",
    "    print(W,y)"
   ]
  },
  {
   "cell_type": "code",
   "execution_count": 12,
   "metadata": {},
   "outputs": [
    {
     "name": "stdout",
     "output_type": "stream",
     "text": [
      "tensor([0.1144, 0.4259, 0.6462]) tensor(0.8071)\n",
      "tensor([0.1068, 0.3596, 0.6219]) tensor(0.5269)\n",
      "tensor([0.1035, 0.3303, 0.6111]) tensor(0.4917)\n",
      "tensor([0.1018, 0.3159, 0.6058]) tensor(0.4761)\n",
      "tensor([0.1010, 0.3084, 0.6031]) tensor(0.4684)\n",
      "tensor([0.1005, 0.3045, 0.6017]) tensor(0.4645)\n",
      "tensor([0.1003, 0.3024, 0.6009]) tensor(0.4624)\n",
      "tensor([0.1001, 0.3013, 0.6005]) tensor(0.4613)\n",
      "tensor([0.1001, 0.3007, 0.6003]) tensor(0.4607)\n",
      "tensor([0.1000, 0.3004, 0.6001]) tensor(0.4604)\n"
     ]
    }
   ],
   "source": [
    "### Write your PyTorch codes here\n",
    "import torch as t\n",
    "\n",
    "x = t.tensor([0.1, 0.3, 0.6])\n",
    "W = t.rand(3)\n",
    "for i in t.arange(10):\n",
    "    y = t.dot(W, x)\n",
    "    W += y*(x-W)\n",
    "    print(W,y)"
   ]
  },
  {
   "cell_type": "code",
   "execution_count": null,
   "metadata": {},
   "outputs": [],
   "source": []
  }
 ],
 "metadata": {
  "kernelspec": {
   "display_name": "Python 3.8",
   "language": "python",
   "name": "python38"
  },
  "language_info": {
   "codemirror_mode": {
    "name": "ipython",
    "version": 3
   },
   "file_extension": ".py",
   "mimetype": "text/x-python",
   "name": "python",
   "nbconvert_exporter": "python",
   "pygments_lexer": "ipython3",
   "version": "3.8.13"
  },
  "toc": {
   "base_numbering": 1,
   "nav_menu": {},
   "number_sections": true,
   "sideBar": true,
   "skip_h1_title": false,
   "title_cell": "Table of Contents",
   "title_sidebar": "Contents",
   "toc_cell": false,
   "toc_position": {},
   "toc_section_display": true,
   "toc_window_display": false
  }
 },
 "nbformat": 4,
 "nbformat_minor": 2
}
